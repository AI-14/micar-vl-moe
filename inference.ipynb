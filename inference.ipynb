{
 "cells": [
  {
   "cell_type": "markdown",
   "id": "02e6afcc",
   "metadata": {},
   "source": [
    "# Inference instructions\n",
    "\n",
    "1. Download the pretrained model checkpoints and their associated files from: [Checkpoints](https://drive.google.com/drive/folders/1VgPAr7kvh7lHdAZ1329yMct4MIAR355f?usp=sharing).\n",
    "\n",
    "2. Create directory `checkpoints/` and move the downloaded directories inside `checkpoints/`. Your final structure should look like this:\n",
    "\n",
    "   ```\n",
    "   checkpoints/\n",
    "   |-- covctr/\n",
    "   |   |-- model_snapshot.pth\n",
    "   |   |-- id2token.json\n",
    "   |   |-- token2id.json\n",
    "   |-- mmretinal/\n",
    "   |   |-- model_snapshot.pth\n",
    "   |   |-- id2token.json\n",
    "   |   |-- token2id.json\n",
    "   |-- pgross/\n",
    "   |   |-- model_snapshot.pth\n",
    "   |   |-- id2token.json\n",
    "   |   |-- token2id.json\n",
    "   |-- roco/\n",
    "       |-- model_snapshot.pth\n",
    "       |-- id2token.json\n",
    "       |-- token2id.json\n",
    "   ```\n",
    "\n",
    "3. Update the `CFG` dataclass provided below with the appropriate values (given in `scripts/`) for the dataset you're running inference on. Example configuration for COVCTR is shown in this notebook."
   ]
  },
  {
   "cell_type": "markdown",
   "id": "f8624f92",
   "metadata": {},
   "source": [
    "# Inference code"
   ]
  },
  {
   "cell_type": "code",
   "execution_count": 19,
   "id": "adb829c6",
   "metadata": {},
   "outputs": [],
   "source": [
    "from dataclasses import dataclass\n",
    "import torch\n",
    "from architecture.models import CaptionModel\n",
    "from utils.tokenizers import CustomTokenizer\n",
    "from utils.dataloaders import CaptionModelDataLoaders"
   ]
  },
  {
   "cell_type": "code",
   "execution_count": 8,
   "id": "1bb46abc",
   "metadata": {},
   "outputs": [],
   "source": [
    "@dataclass\n",
    "class CFG:\n",
    "    dataset_name: str = \"covctr\"\n",
    "    df_train_filepath: str = f\"data/{dataset_name}/train.csv\"\n",
    "    df_val_filepath: str = f\"data/{dataset_name}/val.csv\"\n",
    "    df_test_filepath: str = f\"data/{dataset_name}/test.csv\"\n",
    "\n",
    "    token2id_filepath: str = f\"checkpoints/{dataset_name}/token2id.json\"\n",
    "    id2token_filepath: str = f\"checkpoints/{dataset_name}/id2token.json\"\n",
    "    min_frequency: int = 3\n",
    "\n",
    "    d_v: int = 2048\n",
    "    num_heads: int = 8\n",
    "    num_layers: int = 2\n",
    "    d_model: int = 512\n",
    "    d_latent: int = 768\n",
    "    qk_nope_dim: int = 48\n",
    "    qk_rope_dim: int = 48\n",
    "    d_ff: int = 2048\n",
    "    act_fn: str = \"silu\"\n",
    "    attention_dropout: float = 0.12\n",
    "    dropout: float = 0.1\n",
    "    num_experts: int = 8\n",
    "    k: int = 2\n",
    "    text_seq_len: int = 80\n",
    "    beam_width: int = 3\n",
    "    batch_size: int = 1\n",
    "\n",
    "    model_snapshot_filepath: str = f\"checkpoints/{dataset_name}/model_snapshot.pth\""
   ]
  },
  {
   "cell_type": "code",
   "execution_count": 16,
   "id": "065ac853",
   "metadata": {},
   "outputs": [
    {
     "name": "stdout",
     "output_type": "stream",
     "text": [
      "Vocabulary loaded with total size of 229\n"
     ]
    }
   ],
   "source": [
    "cfg = CFG()\n",
    "tokenizer = CustomTokenizer(cfg)\n",
    "test_loader = CaptionModelDataLoaders.get_test_dataloader(cfg, tokenizer)\n",
    "device = torch.device(\"cuda\")\n",
    "model = CaptionModel(cfg, tokenizer.get_vocab_size())\n",
    "snapshot = torch.load(cfg.model_snapshot_filepath, map_location=device)\n",
    "model.load_state_dict(snapshot[\"model\"])\n",
    "model.to(device)\n",
    "model.eval()\n",
    "\n",
    "sos_id = tokenizer.get_id_by_token(\"<sos>\")\n",
    "eos_id = tokenizer.get_id_by_token(\"<eos>\")\n",
    "pad_id = tokenizer.get_id_by_token(\"<pad>\")\n",
    "generated_report = \"\"\n",
    "actual_report = \"\"\n",
    "\n",
    "batch_iter = iter(test_loader)"
   ]
  },
  {
   "cell_type": "code",
   "execution_count": 18,
   "id": "f12282ff",
   "metadata": {},
   "outputs": [
    {
     "name": "stdout",
     "output_type": "stream",
     "text": [
      "Generated report: the thorax was symmetrical , the mediastinal heart shadow was centered , no enlarged lymph nodes were seen in the mediastinum , the texture of both lungs was enhanced , and a ground glass shadow was seen under the pleura of the lower lobe of the right lung with blurred margins , the bronchi of the lobe were clear , and no abnormal density shadow was seen in the bilateral thoracic cavities .\n",
      "Actual report: the thorax was symmetrical , the mediastinal heart shadow was centered , no enlarged lymph nodes were seen in the mediastinum , the texture of both lungs was enhanced , a ground glass shadow was seen in the lower lobe of the right lung with blurred margins , and no abnormal density shadow was seen in the bilateral thoracic cavities .\n"
     ]
    }
   ],
   "source": [
    "with torch.no_grad():\n",
    "    batch = next(batch_iter)\n",
    "    image = batch[\"image\"].to(device)  # [b, c, h, w]\n",
    "    label_ids = batch[\"label_ids\"].to(device)  # [b, text_seq_len]\n",
    "    gen_report_ids = model.beam_search(\n",
    "        image,\n",
    "        sos_id,\n",
    "        eos_id,\n",
    "        pad_id,\n",
    "        cfg.beam_width,\n",
    "        cfg.text_seq_len,\n",
    "    )  # [b, text_seq_len]\n",
    "    generated_report = tokenizer.decode_by_ids(gen_report_ids[0].detach().cpu().numpy().tolist())\n",
    "    actual_report = tokenizer.decode_by_ids(label_ids[0].detach().cpu().numpy().tolist())\n",
    "        \n",
    "    print(f\"Generated report: {generated_report}\")\n",
    "    print(f\"Actual report: {actual_report}\")"
   ]
  }
 ],
 "metadata": {
  "kernelspec": {
   "display_name": "jouvlt",
   "language": "python",
   "name": "python3"
  },
  "language_info": {
   "codemirror_mode": {
    "name": "ipython",
    "version": 3
   },
   "file_extension": ".py",
   "mimetype": "text/x-python",
   "name": "python",
   "nbconvert_exporter": "python",
   "pygments_lexer": "ipython3",
   "version": "3.10.16"
  }
 },
 "nbformat": 4,
 "nbformat_minor": 5
}
